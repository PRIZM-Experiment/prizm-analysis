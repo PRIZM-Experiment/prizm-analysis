{
 "cells": [
  {
   "cell_type": "code",
   "execution_count": 2,
   "metadata": {},
   "outputs": [],
   "source": [
    "from matplotlib import pyplot as plt\n",
    "from data_prep import DataPrep\n",
    "from data_binning import DataBinning\n",
    "from gsm_data import GSMData, get_desired_frequencies\n",
    "import numpy as np"
   ]
  },
  {
   "cell_type": "markdown",
   "metadata": {},
   "source": [
    "# Creating gsm calibration data (power-ish) from selections"
   ]
  },
  {
   "cell_type": "code",
   "execution_count": 4,
   "metadata": {},
   "outputs": [],
   "source": [
    "year = '2021'\n",
    "instrument = '100MHz'\n",
    "channel = 'EW'\n",
    "calibration_type = 'GSM'\n",
    "path = '/Volumes/SSData/'"
   ]
  },
  {
   "cell_type": "code",
   "execution_count": null,
   "metadata": {},
   "outputs": [],
   "source": [
    "d = DataPrep(instrument, channel, year)\n",
    "cal_data, sidereal_times = d(calibration_type)"
   ]
  },
  {
   "cell_type": "code",
   "execution_count": null,
   "metadata": {},
   "outputs": [],
   "source": [
    "#I normally save the output of the dataprep since I run into memory issues and experience crashes\n",
    "with open(f'{path}/GSM_Cal_Power_and_Times/{year}/{instrument}_{channel}_{year}.npz', 'wb') as g:\n",
    "    np.savez(g, power=cal_data, times=sidereal_times)   "
   ]
  },
  {
   "cell_type": "code",
   "execution_count": null,
   "metadata": {},
   "outputs": [],
   "source": [
    "plt.figure(1, figsize=(20, 20))\n",
    "plt.imshow(np.log10(cal_data[150000:160000,1200:1600]), vmin=8.5, vmax=9.5)"
   ]
  },
  {
   "cell_type": "markdown",
   "metadata": {},
   "source": [
    "# Removing RFI and Binning Antenna Data"
   ]
  },
  {
   "cell_type": "code",
   "execution_count": 6,
   "metadata": {},
   "outputs": [],
   "source": [
    "minperbin = 2\n",
    "flow = 50\n",
    "fhigh = 150"
   ]
  },
  {
   "cell_type": "code",
   "execution_count": null,
   "metadata": {},
   "outputs": [],
   "source": [
    "alldata = np.load(f'{path}/GSM_Cal_Power_and_Times/{year}/{instrument}_{channel}_{year}.npz')\n",
    "data = alldata['power']\n",
    "times = alldata['times']"
   ]
  },
  {
   "cell_type": "code",
   "execution_count": null,
   "metadata": {},
   "outputs": [],
   "source": [
    "b = DataBinning(data, times, minperbin, flow, fhigh)\n",
    "final_data = b()"
   ]
  },
  {
   "cell_type": "markdown",
   "metadata": {},
   "source": [
    "# Get GSM data if doing GSM cal"
   ]
  },
  {
   "cell_type": "code",
   "execution_count": null,
   "metadata": {},
   "outputs": [],
   "source": [
    "if calibration_type == 'GSM':\n",
    "    try:\n",
    "        with open(f'./GSM_averages/{instrument}_{channel}_GSM_average_{minperbin}min.npy', 'rb') as f:\n",
    "            Tgsm = np.load(f)\n",
    "    except:\n",
    "        g = GSMData(instrument, channel, minperbin)\n",
    "        Tgsm = g()"
   ]
  },
  {
   "cell_type": "code",
   "execution_count": null,
   "metadata": {},
   "outputs": [],
   "source": []
  }
 ],
 "metadata": {
  "kernelspec": {
   "display_name": "prizmenv",
   "language": "python",
   "name": "prizmenv"
  },
  "language_info": {
   "codemirror_mode": {
    "name": "ipython",
    "version": 3
   },
   "file_extension": ".py",
   "mimetype": "text/x-python",
   "name": "python",
   "nbconvert_exporter": "python",
   "pygments_lexer": "ipython3",
   "version": "3.9.8"
  }
 },
 "nbformat": 4,
 "nbformat_minor": 5
}
