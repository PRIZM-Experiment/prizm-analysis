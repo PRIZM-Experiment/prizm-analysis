{
 "cells": [
  {
   "cell_type": "code",
   "execution_count": 1,
   "id": "faced-single",
   "metadata": {},
   "outputs": [],
   "source": [
    "from matplotlib import pyplot as plt\n",
    "from data_prep import DataPrep\n",
    "from data_binning import DataBinning\n",
    "from gsm_data import GSMData, get_desired_frequencies\n",
    "import numpy as np"
   ]
  },
  {
   "cell_type": "markdown",
   "id": "major-montana",
   "metadata": {},
   "source": [
    "# Creating gsm calibration data (power-ish) from selections"
   ]
  },
  {
   "cell_type": "code",
   "execution_count": null,
   "id": "western-cooler",
   "metadata": {},
   "outputs": [],
   "source": [
    "year = '2021'\n",
    "instrument = '100MHz'\n",
    "channel = 'EW'\n",
    "calibration_type = 'GSM'\n",
    "path = '/Volumes/SSData/'"
   ]
  },
  {
   "cell_type": "code",
   "execution_count": null,
   "id": "numerous-discussion",
   "metadata": {},
   "outputs": [],
   "source": [
    "d = DataPrep(instrument, channel, year)\n",
    "cal_data, sidereal_times = d(calibration_type)"
   ]
  },
  {
   "cell_type": "code",
   "execution_count": null,
   "id": "alleged-antibody",
   "metadata": {},
   "outputs": [],
   "source": [
    "#I normally save the output of the dataprep since I run into memory issues and experience crashes\n",
    "with open(f'{path}/GSM_Cal_Power_and_Times/{year}/{instrument}_{channel}_{year}.npz', 'wb') as g:\n",
    "    np.savez(g, power=cal_data, times=sidereal_times)   "
   ]
  },
  {
   "cell_type": "code",
   "execution_count": null,
   "id": "ongoing-picnic",
   "metadata": {},
   "outputs": [],
   "source": [
    "plt.figure(1, figsize=(20, 20))\n",
    "plt.imshow(np.log10(cal_data[150000:160000,1200:1600]), vmin=8.5, vmax=9.5)"
   ]
  },
  {
   "cell_type": "markdown",
   "id": "objective-family",
   "metadata": {},
   "source": [
    "# Removing RFI and Binning Antenna Data"
   ]
  },
  {
   "cell_type": "code",
   "execution_count": null,
   "id": "integrated-saskatchewan",
   "metadata": {},
   "outputs": [],
   "source": [
    "minperbin = 2\n",
    "flow = 50\n",
    "fhigh = 150"
   ]
  },
  {
   "cell_type": "code",
   "execution_count": null,
   "id": "aquatic-consideration",
   "metadata": {},
   "outputs": [],
   "source": [
    "alldata = np.load(f'{path}/GSM_Cal_Power_and_Times/{year}/{instrument}_{channel}_{year}.npz')\n",
    "data = alldata['power']\n",
    "times = alldata['times']"
   ]
  },
  {
   "cell_type": "code",
   "execution_count": null,
   "id": "conditional-marker",
   "metadata": {},
   "outputs": [],
   "source": [
    "b = DataBinning(data, times, minperbin, flow, fhigh)\n",
    "final_data = b()"
   ]
  },
  {
   "cell_type": "markdown",
   "id": "sustainable-spending",
   "metadata": {},
   "source": [
    "# Get GSM data if doing GSM cal"
   ]
  },
  {
   "cell_type": "code",
   "execution_count": null,
   "id": "successful-beatles",
   "metadata": {},
   "outputs": [],
   "source": [
    "if calibration_type == 'GSM':\n",
    "    try:\n",
    "        with open(f'./GSM_averages/{instrument}_{channel}_GSM_average_{minperbin}min.npy', 'rb') as f:\n",
    "            Tgsm = np.load(f)\n",
    "    except:\n",
    "        g = GSMData(instrument, channel, minperbin)\n",
    "        Tgsm = g()"
   ]
  },
  {
   "cell_type": "code",
   "execution_count": null,
   "id": "biblical-iraqi",
   "metadata": {},
   "outputs": [],
   "source": [
    "gsm = get_desired_frequencies(Tgsm, flow, fhigh)"
   ]
  },
  {
   "cell_type": "code",
   "execution_count": null,
   "id": "furnished-buyer",
   "metadata": {},
   "outputs": [],
   "source": []
  }
 ],
 "metadata": {
  "kernelspec": {
   "display_name": "Python 3 (ipykernel)",
   "language": "python",
   "name": "python3"
  },
  "language_info": {
   "codemirror_mode": {
    "name": "ipython",
    "version": 3
   },
   "file_extension": ".py",
   "mimetype": "text/x-python",
   "name": "python",
   "nbconvert_exporter": "python",
   "pygments_lexer": "ipython3",
   "version": "3.7.6"
  }
 },
 "nbformat": 4,
 "nbformat_minor": 5
}
