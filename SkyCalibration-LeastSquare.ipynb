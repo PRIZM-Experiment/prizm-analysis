{
 "cells": [
  {
   "cell_type": "code",
   "execution_count": 21,
   "id": "described-carpet",
   "metadata": {},
   "outputs": [],
   "source": [
    "import numpy as np\n",
    "import os\n",
    "import statistics as stat\n",
    "import math\n",
    "import scipy as sci\n",
    "from matplotlib import pyplot as plt\n",
    "import PrizmCalibration as cl\n",
    "import prizmatoid as pzt\n",
    "try:\n",
    "    reload(pzt)\n",
    "    reload(cl)\n",
    "except:\n",
    "    from importlib import reload\n",
    "    reload(pzt)\n",
    "    reload(cl)\n",
    "    "
   ]
  },
  {
   "cell_type": "markdown",
   "id": "meaning-problem",
   "metadata": {},
   "source": [
    "# Prepping Data (don't need if already done and saved)"
   ]
  },
  {
   "cell_type": "code",
   "execution_count": 23,
   "id": "absolute-guest",
   "metadata": {},
   "outputs": [],
   "source": [
    "flow = 60\n",
    "fhigh = 120\n",
    "minperbin = 10"
   ]
  },
  {
   "cell_type": "code",
   "execution_count": 22,
   "id": "younger-exclusive",
   "metadata": {},
   "outputs": [
    {
     "name": "stderr",
     "output_type": "stream",
     "text": [
      "/Users/kellyforan/Documents/Prizm/Calibration/PrizmCalibration.py:218: RuntimeWarning: invalid value encountered in double_scalars\n",
      "  binned[i,:] = np.sum(tmp, axis=0)/len(tmp)\n"
     ]
    }
   ],
   "source": [
    "cl.GSM_calibration_data(minperbin, flow, fhigh, 100, 'EW')"
   ]
  },
  {
   "cell_type": "markdown",
   "id": "official-fourth",
   "metadata": {},
   "source": [
    "# Opening saved data"
   ]
  },
  {
   "cell_type": "code",
   "execution_count": 24,
   "id": "patent-memorabilia",
   "metadata": {},
   "outputs": [],
   "source": [
    "with open('100MHz_EW_antenna_average.npy', 'rb') as f:\n",
    "    alldataavg = np.load(f)\n",
    "with open('100MHz_EW_GSM_average.npy', 'rb') as g:\n",
    "    allgsmavg = np.load(g)\n",
    "with open('100MHz_EW_antenna_allarrays.npy', 'rb') as h:\n",
    "    alldata = np.load(h)"
   ]
  },
  {
   "cell_type": "markdown",
   "id": "revolutionary-corrections",
   "metadata": {},
   "source": [
    "# LEAST SQUARES\n"
   ]
  },
  {
   "cell_type": "code",
   "execution_count": 25,
   "id": "dimensional-airport",
   "metadata": {},
   "outputs": [],
   "source": [
    "#Tcd simulation values\n",
    "flow = 60\n",
    "fhigh = 120\n",
    "\n",
    "Tcd = np.array([-1.01879219e-02, -1.38655564e-02, -1.85246433e-02, -2.42953560e-02, -3.12793370e-02, -3.95323534e-02, -4.90465721e-02, -5.97345379e-02,\n",
    " -7.14172654e-02, -8.38188667e-02, -9.65697732e-02, -1.09219830e-01, -1.21261418e-01, -1.32161405e-01, -1.41399382e-01, -1.48508474e-01,\n",
    " -1.53114322e-01, -1.54967725e-01, -1.53966968e-01, -1.50167074e-01, -1.43774789e-01, -1.35129950e-01, -1.24675568e-01, -1.12920281e-01,\n",
    " -1.00397618e-01, -8.76265518e-02, -7.50773434e-02, -6.31455762e-02, -5.21360139e-02, -4.22565052e-02, -3.36209660e-02, -2.62595729e-02,\n",
    " -2.01338111e-02, -1.51539266e-02, -1.11965758e-02, -8.12093687e-03, -5.78213066e-03, -4.04138781e-03, -2.77289876e-03, -1.86766232e-03,\n",
    " -1.23487660e-03, -8.01511254e-04, -5.10689051e-04, -3.19421635e-04, -1.96125006e-04, -1.18212246e-04, -6.99443807e-05, -4.06259985e-05,\n",
    " -2.31641370e-05, -1.29654938e-05, -7.4827469e-06])\n",
    "\n",
    "start = int((flow-50)/2)\n",
    "end = 51-int((150-fhigh)/2)\n",
    "Tcd = Tcd[start:end]\n"
   ]
  },
  {
   "cell_type": "code",
   "execution_count": 26,
   "id": "educated-virtue",
   "metadata": {},
   "outputs": [],
   "source": [
    "#create data to fit model to (d = Tgsm + Tcd)\n",
    "d = allgsmavg + np.repeat(Tcd[np.newaxis,:], allgsmavg.shape[0], axis = 0)\n"
   ]
  },
  {
   "cell_type": "markdown",
   "id": "satisfactory-hayes",
   "metadata": {},
   "source": [
    "# Dealing with N"
   ]
  },
  {
   "cell_type": "code",
   "execution_count": 27,
   "id": "worthy-politics",
   "metadata": {},
   "outputs": [],
   "source": [
    "#find variance in power at one frequency over the 25 days of data\n",
    "tmp = []\n",
    "alldatavar = np.zeros((alldata.shape[1], alldata.shape[2]))\n",
    "\n",
    "for j in range(0, alldata.shape[1]):\n",
    "    for k in range(0, alldata.shape[2]):\n",
    "        for i in range(0, alldata.shape[0]):\n",
    "            if alldata[i,j,k] != 0:\n",
    "                tmp.append(alldata[i,j,k])\n",
    "        alldatavar[j, k] = np.nanvar(tmp)\n",
    "        tmp = []\n"
   ]
  },
  {
   "cell_type": "code",
   "execution_count": 28,
   "id": "nasty-boundary",
   "metadata": {},
   "outputs": [],
   "source": [
    "#find variance in power\n",
    "timevar = np.nanvar(alldataavg, axis = 0)\n",
    "freqvar = np.nanvar(alldataavg, axis=1)"
   ]
  },
  {
   "cell_type": "markdown",
   "id": "strong-cliff",
   "metadata": {},
   "source": [
    "# Fit versus t at each f"
   ]
  },
  {
   "cell_type": "code",
   "execution_count": 29,
   "id": "little-hurricane",
   "metadata": {},
   "outputs": [],
   "source": [
    "polydim = 8\n",
    "a = np.zeros((polydim, alldataavg.shape[1]))\n",
    "\n",
    "for j in range(0, alldataavg.shape[1]):\n",
    "        Ninv = np.identity(144)*(1/alldatavar[:,j])\n",
    "        P = alldataavg[:,j]\n",
    "        columns = np.zeros((len(P), polydim))\n",
    "        columns[:,0] = P\n",
    "        for k in range(1, polydim):\n",
    "            temparray = np.zeros(len(P))\n",
    "            for i in range(0, alldataavg.shape[0]):\n",
    "                temparray[i]= P[i]*(i*120)**k\n",
    "            columns[:,k] = temparray  \n",
    "        data = np.stack(columns, axis=0)\n",
    "        data[np.isnan(data)] = 0\n",
    "        \n",
    "        d[np.isnan(d)] = 0\n",
    "        AT = np.transpose(data)\n",
    "        first = np.matmul(np.matmul(AT, Ninv), data)\n",
    "        firstinv = np.linalg.inv(first)\n",
    "        second = np.matmul(np.matmul(AT, Ninv), d[:,j])\n",
    "        final = np.matmul(firstinv, second)  \n",
    "        a[:,j] = final       "
   ]
  },
  {
   "cell_type": "code",
   "execution_count": 30,
   "id": "parliamentary-estate",
   "metadata": {},
   "outputs": [],
   "source": [
    "ktmp = np.zeros((alldataavg.shape[0], alldataavg.shape[1], polydim))\n",
    "for i in range(0,alldataavg.shape[0]):\n",
    "    for j in range(0,alldataavg.shape[1]):\n",
    "        for l in range(0, polydim):\n",
    "            ktmp[i,j,l] = a[l,j]*((i*120)**l)\n",
    "k = np.nansum(ktmp, axis=2)\n",
    "kavg = np.nanmean(k, axis=0)"
   ]
  },
  {
   "cell_type": "code",
   "execution_count": 31,
   "id": "stable-enterprise",
   "metadata": {},
   "outputs": [
    {
     "data": {
      "text/plain": [
       "([<matplotlib.axis.XTick at 0x128bfe410>,\n",
       "  <matplotlib.axis.XTick at 0x128c0d1d0>,\n",
       "  <matplotlib.axis.XTick at 0x128c0d2d0>,\n",
       "  <matplotlib.axis.XTick at 0x129111650>],\n",
       " [Text(0, 0, '60'), Text(10, 0, '80'), Text(20, 0, '100'), Text(30, 0, '120')])"
      ]
     },
     "execution_count": 31,
     "metadata": {},
     "output_type": "execute_result"
    },
    {
     "data": {
      "image/png": "[encoded data removed]",
      "text/plain": [
       "<Figure size 432x288 with 1 Axes>"
      ]
     },
     "metadata": {
      "needs_background": "light"
     },
     "output_type": "display_data"
    }
   ],
   "source": [
    "plt.plot(abs(kavg))\n",
    "plt.xlabel('Frequency (MHz)')\n",
    "labels=([\"60\", \"80\", \"100\", \"120\"])\n",
    "plt.xticks([0, 10, 20, 30], labels)"
   ]
  },
  {
   "cell_type": "code",
   "execution_count": 32,
   "id": "destroyed-hepatitis",
   "metadata": {},
   "outputs": [],
   "source": [
    "obs = k*alldataavg\n",
    "obs=np.nanmean(obs, axis=0)\n",
    "v = []\n",
    "for j in range(flow, fhigh+2, 2):\n",
    "    v.append(j)\n",
    "v=np.array(v)\n",
    "fit = np.polyfit(np.log10(v/100), np.log10(np.abs(obs)), polydim)    \n",
    "power = np.zeros(int((fhigh-flow)/2)+1)\n",
    "i = 0\n",
    "while i <= polydim:\n",
    "    power = power + fit[polydim-i]*(np.log10(v/100))**i\n",
    "    i += 1\n",
    "y = 10**(power)"
   ]
  },
  {
   "cell_type": "code",
   "execution_count": 33,
   "id": "confirmed-dependence",
   "metadata": {},
   "outputs": [
    {
     "data": {
      "text/plain": [
       "Text(0.5, 0, 'Frequency (MHz)')"
      ]
     },
     "execution_count": 33,
     "metadata": {},
     "output_type": "execute_result"
    },
    {
     "data": {
      "image/png": "[encoded data removed]",
      "text/plain": [
       "<Figure size 432x288 with 1 Axes>"
      ]
     },
     "metadata": {
      "needs_background": "light"
     },
     "output_type": "display_data"
    }
   ],
   "source": [
    "#plt.plot(y, label = 'Sky Model')\n",
    "#plt.plot(obs,lw = 3, ls = \":\", label = 'Observed Data')\n",
    "plt.plot(abs(np.abs(y) - np.abs(obs)))\n",
    "labels=([\"60\", \"80\", \"100\", \"120\"])\n",
    "plt.xticks([0, 10, 20, 30], labels)\n",
    "plt.ylabel('Temperature (K)')\n",
    "plt.xlabel('Frequency (MHz)')\n",
    "#plt.legend(loc = 'upper right', prop ={'size': 16})"
   ]
  },
  {
   "cell_type": "markdown",
   "id": "expensive-bathroom",
   "metadata": {},
   "source": [
    "# Fit versus f at each t"
   ]
  },
  {
   "cell_type": "code",
   "execution_count": 34,
   "id": "sharp-deposit",
   "metadata": {},
   "outputs": [],
   "source": [
    "polydim = 8\n",
    "a = np.zeros((polydim,alldataavg.shape[0]))\n",
    "\n",
    "for j in range(0, alldataavg.shape[0]):\n",
    "    Ninv = np.identity(alldataavg.shape[1])*(1/alldatavar[j,:])\n",
    "    P = alldataavg[j,:]\n",
    "    columns = np.zeros((len(P), polydim))\n",
    "    columns[:,0] = P\n",
    "    for k in range(1, polydim):\n",
    "        temparray = np.zeros(len(P))\n",
    "        for i in range(0, alldataavg.shape[1]):\n",
    "            temparray[i]= P[i]*(i*2)**k\n",
    "        columns[:,k] = temparray  \n",
    "    data = np.stack(columns, axis=0)\n",
    "    data[np.isnan(data)] = 0   \n",
    "        \n",
    "    d[np.isnan(d)] = 0\n",
    "    AT = np.transpose(data)\n",
    "    first = np.matmul(np.matmul(AT, Ninv), data)\n",
    "    firstinv = np.linalg.inv(first)\n",
    "    second = np.matmul(np.matmul(AT, Ninv), d[j,:])\n",
    "    final = np.matmul(firstinv, second)  \n",
    "    a[:,j] = final "
   ]
  },
  {
   "cell_type": "code",
   "execution_count": 35,
   "id": "nervous-concert",
   "metadata": {},
   "outputs": [],
   "source": [
    "ktmp = np.zeros((alldataavg.shape[0],alldataavg.shape[1], polydim))\n",
    "for i in range(0,alldataavg.shape[1]):\n",
    "    for j in range(0,alldataavg.shape[0]):\n",
    "        for l in range(0, polydim):\n",
    "            ktmp[j,i,l] = a[l,j]*((i*2)**l)\n",
    "k = np.nansum(ktmp, axis=2)\n",
    "kaverage = np.average(k, axis=0)\n"
   ]
  },
  {
   "cell_type": "code",
   "execution_count": 36,
   "id": "plain-series",
   "metadata": {},
   "outputs": [
    {
     "data": {
      "text/plain": [
       "([<matplotlib.axis.XTick at 0x129334850>,\n",
       "  <matplotlib.axis.XTick at 0x129335510>,\n",
       "  <matplotlib.axis.XTick at 0x129335090>,\n",
       "  <matplotlib.axis.XTick at 0x129210210>],\n",
       " [Text(0, 0, '60'), Text(10, 0, '80'), Text(20, 0, '100'), Text(30, 0, '120')])"
      ]
     },
     "execution_count": 36,
     "metadata": {},
     "output_type": "execute_result"
    },
    {
     "data": {
      "image/png": "[encoded data removed]",
      "text/plain": [
       "<Figure size 432x288 with 1 Axes>"
      ]
     },
     "metadata": {
      "needs_background": "light"
     },
     "output_type": "display_data"
    }
   ],
   "source": [
    "plt.plot(kaverage)\n",
    "plt.xlabel('Frequency (MHz)')\n",
    "labels=([\"60\", \"80\", \"100\", \"120\"])\n",
    "plt.xticks([0, 10, 20, 30], labels)"
   ]
  },
  {
   "cell_type": "code",
   "execution_count": 37,
   "id": "hawaiian-fancy",
   "metadata": {},
   "outputs": [],
   "source": [
    "obsall = k*alldataavg\n",
    "obs=np.nanmean(obsall, axis=0)\n",
    "v = []\n",
    "for j in range(flow, fhigh+2, 2):\n",
    "    v.append(j)\n",
    "v=np.array(v)\n",
    "fit = np.polyfit(np.log10(v/100), np.log10(np.abs(obs)), polydim)    \n",
    "power = np.zeros(int((fhigh-flow)/2)+1)\n",
    "i = 0\n",
    "while i <= polydim:\n",
    "    power = power + fit[polydim-i]*(np.log10(v/100))**i\n",
    "    i += 1\n",
    "y = 10**(power)"
   ]
  },
  {
   "cell_type": "code",
   "execution_count": 38,
   "id": "opposite-yukon",
   "metadata": {},
   "outputs": [
    {
     "data": {
      "text/plain": [
       "([<matplotlib.axis.XTick at 0x12923c450>,\n",
       "  <matplotlib.axis.XTick at 0x129242110>,\n",
       "  <matplotlib.axis.XTick at 0x12923cc50>,\n",
       "  <matplotlib.axis.XTick at 0x12962a250>],\n",
       " [Text(0, 0, '60'), Text(10, 0, '80'), Text(20, 0, '100'), Text(30, 0, '120')])"
      ]
     },
     "execution_count": 38,
     "metadata": {},
     "output_type": "execute_result"
    },
    {
     "data": {
      "image/png": "[encoded data removed]",
      "text/plain": [
       "<Figure size 432x288 with 1 Axes>"
      ]
     },
     "metadata": {
      "needs_background": "light"
     },
     "output_type": "display_data"
    }
   ],
   "source": [
    "#plt.plot(y)\n",
    "#plt.plot(obs)\n",
    "plt.plot(abs(np.abs(y) - np.abs(obs)))\n",
    "plt.xlabel('Frequency (MHz)')\n",
    "labels=([\"60\", \"80\", \"100\", \"120\"])\n",
    "plt.xticks([0, 10, 20, 30], labels)"
   ]
  },
  {
   "cell_type": "code",
   "execution_count": null,
   "id": "welcome-border",
   "metadata": {},
   "outputs": [],
   "source": []
  }
 ],
 "metadata": {
  "kernelspec": {
   "display_name": "Python 3",
   "language": "python",
   "name": "python3"
  },
  "language_info": {
   "codemirror_mode": {
    "name": "ipython",
    "version": 3
   },
   "file_extension": ".py",
   "mimetype": "text/x-python",
   "name": "python",
   "nbconvert_exporter": "python",
   "pygments_lexer": "ipython3",
   "version": "3.7.6"
  }
 },
 "nbformat": 4,
 "nbformat_minor": 5
}
