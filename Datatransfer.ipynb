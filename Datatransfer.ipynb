{
 "cells": [
  {
   "cell_type": "code",
   "execution_count": 20,
   "metadata": {},
   "outputs": [],
   "source": [
    "import sys\n",
    "from data_loader import DataLoader\n",
    "import numpy as np"
   ]
  },
  {
   "cell_type": "code",
   "execution_count": 30,
   "metadata": {},
   "outputs": [],
   "source": [
    "year = '2021'\n",
    "freq = '70MHz'\n",
    "chan = 'EW'\n",
    "partial = '_Partial'\n",
    "data_path = '/scratch/s/sievers/nasuyu/prizm-data-wrangling/selections/' + year + '_'+ freq + '_' + chan + \\\n",
    "partial + '.p'\n",
    "database = DataLoader(freq, chan, data_path)\n",
    "data, lst, systime = database()\n",
    "# lst_start, lst_stop = lst\n",
    "# systime_start, systime_stop = systime"
   ]
  },
  {
   "cell_type": "code",
   "execution_count": 31,
   "metadata": {},
   "outputs": [],
   "source": [
    "file_end = '_2021_70EW.npy'\n",
    "## for spectra start & stop times:\n",
    "# arrays = [data, systime_start, systime_stop, lst_start, lst_stop]\n",
    "# names = ['data', 'systime_start', 'systime_stop', 'lst_start', 'lst_stop']\n",
    "## for the mid time of each spectra ((stop - start)/2):\n",
    "names = ['data', 'lst', 'systime']\n",
    "arrays = [data, lst, systime]\n",
    "\n",
    "save_path = 'data/'\n",
    "\n",
    "for i in range(len(names)):\n",
    "    np.save(save_path+names[i]+file_end, arrays[i])"
   ]
  },
  {
   "cell_type": "code",
   "execution_count": null,
   "metadata": {},
   "outputs": [],
   "source": []
  }
 ],
 "metadata": {
  "kernelspec": {
   "display_name": "prizmenv",
   "language": "python",
   "name": "prizmenv"
  },
  "language_info": {
   "codemirror_mode": {
    "name": "ipython",
    "version": 3
   },
   "file_extension": ".py",
   "mimetype": "text/x-python",
   "name": "python",
   "nbconvert_exporter": "python",
   "pygments_lexer": "ipython3",
   "version": "3.9.8"
  }
 },
 "nbformat": 4,
 "nbformat_minor": 4
}
