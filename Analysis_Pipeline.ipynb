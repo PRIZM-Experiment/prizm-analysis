{
 "cells": [
  {
   "cell_type": "markdown",
   "metadata": {},
   "source": [
    "#### PRIZM Data Prep Pipeline"
   ]
  },
  {
   "cell_type": "code",
   "execution_count": null,
   "metadata": {},
   "outputs": [],
   "source": [
    "from data_prep import DataPrep\n",
    "from data_binning import *"
   ]
  },
  {
   "cell_type": "markdown",
   "metadata": {},
   "source": [
    "If getting data from the metadatabase:"
   ]
  },
  {
   "cell_type": "code",
   "execution_count": null,
   "metadata": {},
   "outputs": [],
   "source": [
    "selection = ['70MHz', 'NS', '2021']\n",
    "calib_type = 'GSM' # 'GSM' for short subtracted data, 'raw' for raw antenna\n",
    "\n",
    "dataprep = DataPrep(selection[0], selection[1], selection[2])\n",
    "data, lst, _ = dataprep(calibration_type=calib_type)"
   ]
  },
  {
   "cell_type": "markdown",
   "metadata": {},
   "source": [
    "If uploading data from saved NumPy files:"
   ]
  },
  {
   "cell_type": "code",
   "execution_count": null,
   "metadata": {},
   "outputs": [],
   "source": [
    "path2file = 'DATA/100/EW/'\n",
    "file_ending = '_2021_100EW.npy'\n",
    "\n",
    "with open(path2file + 'data' + file_ending, 'rb') as f:\n",
    "    data = np.load(f)\n",
    "with open(path2file + 'lst' + file_ending, 'rb') as f:\n",
    "    lst = np.load(f)\n",
    "with open(path2file + 'systime' + file_ending, 'rb') as f:\n",
    "    systime = np.load(f)\n",
    "if calib_type == 'GSM':\n",
    "    with open(path2file + 'short_interp' + file_ending, 'rb') as f:\n",
    "        short = np.load(f)\n",
    "    data -= short"
   ]
  },
  {
   "cell_type": "markdown",
   "metadata": {},
   "source": [
    "Data truncation and RFI excision"
   ]
  },
  {
   "cell_type": "code",
   "execution_count": null,
   "metadata": {},
   "outputs": [],
   "source": [
    "RFI = RFI_flagging(data, lst)\n",
    "data = RFI.data"
   ]
  },
  {
   "cell_type": "markdown",
   "metadata": {},
   "source": [
    "LST Binning"
   ]
  },
  {
   "cell_type": "code",
   "execution_count": null,
   "metadata": {},
   "outputs": [],
   "source": [
    "lst_bins, data_binned, _ = lst_binning(data, lst, binsize=2)"
   ]
  },
  {
   "cell_type": "code",
   "execution_count": null,
   "metadata": {},
   "outputs": [],
   "source": []
  }
 ],
 "metadata": {
  "kernelspec": {
   "display_name": "prizmenv",
   "language": "python",
   "name": "prizmenv"
  },
  "language_info": {
   "codemirror_mode": {
    "name": "ipython",
    "version": 3
   },
   "file_extension": ".py",
   "mimetype": "text/x-python",
   "name": "python",
   "nbconvert_exporter": "python",
   "pygments_lexer": "ipython3",
   "version": "3.9.8"
  }
 },
 "nbformat": 4,
 "nbformat_minor": 4
}
